{
 "cells": [
  {
   "cell_type": "markdown",
   "metadata": {},
   "source": [
    "# Datasets and cross-sections preparation"
   ]
  },
  {
   "cell_type": "code",
   "execution_count": 2,
   "metadata": {},
   "outputs": [],
   "source": [
    "import os\n",
    "import sys\n",
    "import openquake.sub as sub\n",
    "\n",
    "# Get the path of the mbtk subduction module\n",
    "path = sub.__path__[0]"
   ]
  },
  {
   "cell_type": "markdown",
   "metadata": {},
   "source": [
    "## 1. Pickle the catalogue\n",
    "First we pickle the catalogue, that is, we create a compact representation of this dataset that can be read quickly by python."
   ]
  },
  {
   "cell_type": "code",
   "execution_count": 13,
   "metadata": {},
   "outputs": [
    {
     "name": "stderr",
     "output_type": "stream",
     "text": [
      "Traceback (most recent call last):\n",
      "  File \"c:\\Users\\USER\\Desktop\\subduction\\oq-mbtk-sub-example\\.venv\\lib\\site-packages\\openquake\\sub\\pickle_catalogue.py\", line 7, in <module>\n",
      "    from openquake.hmtk.parsers.catalogue.csv_catalogue_parser import (\n",
      "  File \"c:\\Users\\USER\\Desktop\\subduction\\oq-mbtk-sub-example\\.venv\\lib\\site-packages\\openquake\\hmtk\\parsers\\catalogue\\__init__.py\", line 24, in <module>\n",
      "    from openquake.hmtk.parsers.catalogue.csv_catalogue_parser import \\\n",
      "  File \"c:\\Users\\USER\\Desktop\\subduction\\oq-mbtk-sub-example\\.venv\\lib\\site-packages\\openquake\\hmtk\\parsers\\catalogue\\csv_catalogue_parser.py\", line 55, in <module>\n",
      "    from openquake.hmtk.seismicity.catalogue import Catalogue\n",
      "  File \"c:\\Users\\USER\\Desktop\\subduction\\oq-mbtk-sub-example\\.venv\\lib\\site-packages\\openquake\\hmtk\\seismicity\\catalogue.py\", line 54, in <module>\n",
      "    from openquake.hazardlib.pmf import PMF\n",
      "  File \"c:\\Users\\USER\\Desktop\\subduction\\oq-mbtk-sub-example\\.venv\\lib\\site-packages\\openquake\\hazardlib\\__init__.py\", line 28, in <module>\n",
      "    from openquake.hazardlib import (\n",
      "  File \"c:\\Users\\USER\\Desktop\\subduction\\oq-mbtk-sub-example\\.venv\\lib\\site-packages\\openquake\\hazardlib\\geo\\__init__.py\", line 28, in <module>\n",
      "    from openquake.hazardlib.geo.point import Point  # noqa\n",
      "  File \"c:\\Users\\USER\\Desktop\\subduction\\oq-mbtk-sub-example\\.venv\\lib\\site-packages\\openquake\\hazardlib\\geo\\point.py\", line 25, in <module>\n",
      "    from openquake.hazardlib.geo import geodetic\n",
      "  File \"c:\\Users\\USER\\Desktop\\subduction\\oq-mbtk-sub-example\\.venv\\lib\\site-packages\\openquake\\hazardlib\\geo\\geodetic.py\", line 27, in <module>\n",
      "    from openquake.baselib.performance import compile\n",
      "  File \"c:\\Users\\USER\\Desktop\\subduction\\oq-mbtk-sub-example\\.venv\\lib\\site-packages\\openquake\\baselib\\performance.py\", line 36, in <module>\n",
      "    import numba\n",
      "  File \"c:\\Users\\USER\\Desktop\\subduction\\oq-mbtk-sub-example\\.venv\\lib\\site-packages\\numba\\__init__.py\", line 59, in <module>\n",
      "    _ensure_critical_deps()\n",
      "  File \"c:\\Users\\USER\\Desktop\\subduction\\oq-mbtk-sub-example\\.venv\\lib\\site-packages\\numba\\__init__.py\", line 45, in _ensure_critical_deps\n",
      "    raise ImportError(msg)\n",
      "ImportError: Numba needs NumPy 2.0 or less. Got NumPy 2.1.\n",
      "'mv' is not recognized as an internal or external command,\n",
      "operable program or batch file.\n",
      "'rm' is not recognized as an internal or external command,\n",
      "operable program or batch file.\n"
     ]
    }
   ],
   "source": [
    "!python $path/pickle_catalogue.py ./../data/catalogue/wpg_catalogue_sumatra.csv\n",
    "!mv catalogue_ext.p ./../data/catalogue/wpg_catalogue_sumatra.p\n",
    "!rm catalogue_ori.p"
   ]
  },
  {
   "cell_type": "markdown",
   "metadata": {},
   "source": [
    "## 2. Create cross-sections"
   ]
  },
  {
   "cell_type": "code",
   "execution_count": 14,
   "metadata": {},
   "outputs": [
    {
     "name": "stderr",
     "output_type": "stream",
     "text": [
      "Traceback (most recent call last):\n",
      "  File \"c:\\Users\\USER\\Desktop\\subduction\\oq-mbtk-sub-example\\.venv\\lib\\site-packages\\openquake\\sub\\create_multiple_cross_sections.py\", line 14, in <module>\n",
      "    from openquake.sub.cross_sections import Trench\n",
      "  File \"c:\\Users\\USER\\Desktop\\subduction\\oq-mbtk-sub-example\\.venv\\lib\\site-packages\\openquake\\sub\\cross_sections.py\", line 40, in <module>\n",
      "    from openquake.hazardlib.geo.geodetic import distance\n",
      "  File \"c:\\Users\\USER\\Desktop\\subduction\\oq-mbtk-sub-example\\.venv\\lib\\site-packages\\openquake\\hazardlib\\__init__.py\", line 28, in <module>\n",
      "    from openquake.hazardlib import (\n",
      "  File \"c:\\Users\\USER\\Desktop\\subduction\\oq-mbtk-sub-example\\.venv\\lib\\site-packages\\openquake\\hazardlib\\geo\\__init__.py\", line 28, in <module>\n",
      "    from openquake.hazardlib.geo.point import Point  # noqa\n",
      "  File \"c:\\Users\\USER\\Desktop\\subduction\\oq-mbtk-sub-example\\.venv\\lib\\site-packages\\openquake\\hazardlib\\geo\\point.py\", line 25, in <module>\n",
      "    from openquake.hazardlib.geo import geodetic\n",
      "  File \"c:\\Users\\USER\\Desktop\\subduction\\oq-mbtk-sub-example\\.venv\\lib\\site-packages\\openquake\\hazardlib\\geo\\geodetic.py\", line 27, in <module>\n",
      "    from openquake.baselib.performance import compile\n",
      "  File \"c:\\Users\\USER\\Desktop\\subduction\\oq-mbtk-sub-example\\.venv\\lib\\site-packages\\openquake\\baselib\\performance.py\", line 36, in <module>\n",
      "    import numba\n",
      "  File \"c:\\Users\\USER\\Desktop\\subduction\\oq-mbtk-sub-example\\.venv\\lib\\site-packages\\numba\\__init__.py\", line 59, in <module>\n",
      "    _ensure_critical_deps()\n",
      "  File \"c:\\Users\\USER\\Desktop\\subduction\\oq-mbtk-sub-example\\.venv\\lib\\site-packages\\numba\\__init__.py\", line 45, in _ensure_critical_deps\n",
      "    raise ImportError(msg)\n",
      "ImportError: Numba needs NumPy 2.0 or less. Got NumPy 2.1.\n",
      "'mv' is not recognized as an internal or external command,\n",
      "operable program or batch file.\n"
     ]
    }
   ],
   "source": [
    "!python $path/create_multiple_cross_sections.py ./../ini/create_profiles.txt\n",
    "!mv cs_traces.cs ./../model/cs_traces.txt"
   ]
  },
  {
   "cell_type": "markdown",
   "metadata": {},
   "source": [
    "## 4. Plotting cross sections"
   ]
  },
  {
   "cell_type": "raw",
   "metadata": {},
   "source": [
    "# This method doesn't work since it depends on basemap \n",
    "!python $path/plotting/plot_multiple_cross_sections_map.py ./../ini/create_profiles.txt ./../model/cs_traces.txt"
   ]
  },
  {
   "cell_type": "markdown",
   "metadata": {},
   "source": [
    "## 5. Plot cross-sections"
   ]
  },
  {
   "cell_type": "raw",
   "metadata": {},
   "source": []
  },
  {
   "cell_type": "code",
   "execution_count": 15,
   "metadata": {},
   "outputs": [
    {
     "name": "stderr",
     "output_type": "stream",
     "text": [
      "Traceback (most recent call last):\n",
      "  File \"c:\\Users\\USER\\Desktop\\subduction\\oq-mbtk-sub-example\\.venv\\lib\\site-packages\\openquake\\sub\\plotting\\plot_multiple_cross_sections.py\", line 8, in <module>\n",
      "    from openquake.sub.plotting.plot_cross_section import plt_cs\n",
      "  File \"c:\\Users\\USER\\Desktop\\subduction\\oq-mbtk-sub-example\\.venv\\lib\\site-packages\\openquake\\sub\\plotting\\plot_cross_section.py\", line 20, in <module>\n",
      "    from openquake.sub.cross_sections import (CrossSection, CrossSectionData)\n",
      "  File \"c:\\Users\\USER\\Desktop\\subduction\\oq-mbtk-sub-example\\.venv\\lib\\site-packages\\openquake\\sub\\cross_sections.py\", line 40, in <module>\n",
      "    from openquake.hazardlib.geo.geodetic import distance\n",
      "  File \"c:\\Users\\USER\\Desktop\\subduction\\oq-mbtk-sub-example\\.venv\\lib\\site-packages\\openquake\\hazardlib\\__init__.py\", line 28, in <module>\n",
      "    from openquake.hazardlib import (\n",
      "  File \"c:\\Users\\USER\\Desktop\\subduction\\oq-mbtk-sub-example\\.venv\\lib\\site-packages\\openquake\\hazardlib\\geo\\__init__.py\", line 28, in <module>\n",
      "    from openquake.hazardlib.geo.point import Point  # noqa\n",
      "  File \"c:\\Users\\USER\\Desktop\\subduction\\oq-mbtk-sub-example\\.venv\\lib\\site-packages\\openquake\\hazardlib\\geo\\point.py\", line 25, in <module>\n",
      "    from openquake.hazardlib.geo import geodetic\n",
      "  File \"c:\\Users\\USER\\Desktop\\subduction\\oq-mbtk-sub-example\\.venv\\lib\\site-packages\\openquake\\hazardlib\\geo\\geodetic.py\", line 27, in <module>\n",
      "    from openquake.baselib.performance import compile\n",
      "  File \"c:\\Users\\USER\\Desktop\\subduction\\oq-mbtk-sub-example\\.venv\\lib\\site-packages\\openquake\\baselib\\performance.py\", line 36, in <module>\n",
      "    import numba\n",
      "  File \"c:\\Users\\USER\\Desktop\\subduction\\oq-mbtk-sub-example\\.venv\\lib\\site-packages\\numba\\__init__.py\", line 59, in <module>\n",
      "    _ensure_critical_deps()\n",
      "  File \"c:\\Users\\USER\\Desktop\\subduction\\oq-mbtk-sub-example\\.venv\\lib\\site-packages\\numba\\__init__.py\", line 45, in _ensure_critical_deps\n",
      "    raise ImportError(msg)\n",
      "ImportError: Numba needs NumPy 2.0 or less. Got NumPy 2.1.\n"
     ]
    }
   ],
   "source": [
    "!python $path/plotting/plot_multiple_cross_sections.py ./../model/cs_traces.txt"
   ]
  },
  {
   "cell_type": "markdown",
   "metadata": {},
   "source": [
    "## 6. Digitize"
   ]
  },
  {
   "cell_type": "code",
   "execution_count": 2,
   "metadata": {},
   "outputs": [
    {
     "name": "stdout",
     "output_type": "stream",
     "text": [
      "Working on cross section: 0\n",
      "setting trench axis\n",
      "setting catalogue\n",
      "setting catalogue\n",
      "setting slab\n",
      "setting crust/moho\n",
      "setting gcmt\n",
      "Parsing catalogue ...\n",
      "complete. Contains 49525 moment tensors\n",
      "setting topo\n",
      "setting litho/moho\n",
      "setting volcano\n",
      "No LITHO1.0...\n",
      "Figure(1000x1025)\n"
     ]
    }
   ],
   "source": [
    "import os\n",
    "import sys\n",
    "import openquake.sub as sub\n",
    "\n",
    "# Get the path of the mbtk subduction module\n",
    "path = sub.__path__[0]\n",
    "\n",
    "\n",
    "!python $path/plotting/plot_cross_section.py 104.248585 -8.110244 400.000000 400.000000 16.808520 0 ./../ini/create_profiles.txt"
   ]
  },
  {
   "cell_type": "code",
   "execution_count": null,
   "metadata": {},
   "outputs": [],
   "source": []
  }
 ],
 "metadata": {
  "kernelspec": {
   "display_name": ".venv",
   "language": "python",
   "name": "python3"
  },
  "language_info": {
   "codemirror_mode": {
    "name": "ipython",
    "version": 3
   },
   "file_extension": ".py",
   "mimetype": "text/x-python",
   "name": "python",
   "nbconvert_exporter": "python",
   "pygments_lexer": "ipython3",
   "version": "3.10.0"
  }
 },
 "nbformat": 4,
 "nbformat_minor": 4
}
