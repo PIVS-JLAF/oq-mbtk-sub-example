{
 "cells": [
  {
   "cell_type": "markdown",
   "metadata": {},
   "source": [
    "# Subduction plots"
   ]
  },
  {
   "cell_type": "code",
   "execution_count": 5,
   "metadata": {},
   "outputs": [],
   "source": [
    "import os\n",
    "import numpy\n",
    "from utils import write_mesh, write_poly\n",
    "from IPython.display import Image\n",
    "from IPython.core.display import HTML \n",
    "from openquake.sub.misc.profile import _read_profiles\n",
    "from openquake.sub.misc.edge import create_from_profiles\n",
    "from openquake.sub.misc.utils import create_inslab_meshes\n",
    "from openquake.sub.quad.msh import create_lower_surface_mesh"
   ]
  },
  {
   "cell_type": "code",
   "execution_count": 6,
   "metadata": {},
   "outputs": [],
   "source": [
    "tmp_path = \"./tmp\"\n",
    "if not os.path.exists(tmp_path):\n",
    "    os.mkdir(tmp_path)\n",
    "    os.mkdir(os.path.join(tmp_path, 'vf'))    "
   ]
  },
  {
   "cell_type": "code",
   "execution_count": 7,
   "metadata": {},
   "outputs": [
    {
     "name": "stdout",
     "output_type": "stream",
     "text": [
      "Reading profiles from ./../model/profiles/cs*.*\n"
     ]
    },
    {
     "ename": "ValueError",
     "evalue": "negative dimensions are not allowed",
     "output_type": "error",
     "traceback": [
      "\u001b[1;31m---------------------------------------------------------------------------\u001b[0m",
      "\u001b[1;31mValueError\u001b[0m                                Traceback (most recent call last)",
      "Cell \u001b[1;32mIn[7], line 7\u001b[0m\n\u001b[0;32m      5\u001b[0m idl \u001b[38;5;241m=\u001b[39m \u001b[38;5;28;01mFalse\u001b[39;00m\n\u001b[0;32m      6\u001b[0m alg \u001b[38;5;241m=\u001b[39m \u001b[38;5;28;01mFalse\u001b[39;00m\n\u001b[1;32m----> 7\u001b[0m smsh \u001b[38;5;241m=\u001b[39m \u001b[43mcreate_from_profiles\u001b[49m\u001b[43m(\u001b[49m\u001b[43mprofiles\u001b[49m\u001b[43m,\u001b[49m\u001b[43m \u001b[49m\u001b[43msampling\u001b[49m\u001b[43m,\u001b[49m\u001b[43m \u001b[49m\u001b[43msampling\u001b[49m\u001b[43m,\u001b[49m\u001b[43m \u001b[49m\u001b[43midl\u001b[49m\u001b[43m,\u001b[49m\u001b[43m \u001b[49m\u001b[43malg\u001b[49m\u001b[43m)\u001b[49m\n\u001b[0;32m      8\u001b[0m low_mesh \u001b[38;5;241m=\u001b[39m create_lower_surface_mesh(smsh, \u001b[38;5;241m50\u001b[39m)\n",
      "File \u001b[1;32mc:\\Users\\USER\\Desktop\\subduction\\oq-mbtk-sub-example\\.venv\\lib\\site-packages\\openquake\\sub\\misc\\edge.py:504\u001b[0m, in \u001b[0;36mcreate_from_profiles\u001b[1;34m(profiles, profile_sd, edge_sd, idl, align)\u001b[0m\n\u001b[0;32m    501\u001b[0m     np\u001b[38;5;241m.\u001b[39mtesting\u001b[38;5;241m.\u001b[39massert_allclose(dst, profile_sd, rtol\u001b[38;5;241m=\u001b[39m\u001b[38;5;241m1.\u001b[39m)\n\u001b[0;32m    502\u001b[0m \u001b[38;5;66;03m#\u001b[39;00m\n\u001b[0;32m    503\u001b[0m \u001b[38;5;66;03m# find the delta needed to align profiles if requested\u001b[39;00m\n\u001b[1;32m--> 504\u001b[0m shift \u001b[38;5;241m=\u001b[39m \u001b[43mnp\u001b[49m\u001b[38;5;241;43m.\u001b[39;49m\u001b[43mzeros\u001b[49m\u001b[43m(\u001b[49m\u001b[38;5;28;43mlen\u001b[39;49m\u001b[43m(\u001b[49m\u001b[43mrprofiles\u001b[49m\u001b[43m)\u001b[49m\u001b[38;5;241;43m-\u001b[39;49m\u001b[38;5;241;43m1\u001b[39;49m\u001b[43m)\u001b[49m\n\u001b[0;32m    505\u001b[0m \u001b[38;5;28;01mif\u001b[39;00m align \u001b[38;5;129;01mis\u001b[39;00m \u001b[38;5;28;01mTrue\u001b[39;00m:\n\u001b[0;32m    506\u001b[0m     \u001b[38;5;28;01mfor\u001b[39;00m i \u001b[38;5;129;01min\u001b[39;00m \u001b[38;5;28mrange\u001b[39m(\u001b[38;5;241m0\u001b[39m, \u001b[38;5;28mlen\u001b[39m(rprofiles)\u001b[38;5;241m-\u001b[39m\u001b[38;5;241m1\u001b[39m):\n",
      "\u001b[1;31mValueError\u001b[0m: negative dimensions are not allowed"
     ]
    }
   ],
   "source": [
    "path = \"./../model/profiles/\"\n",
    "profiles, _ = _read_profiles(path)\n",
    "slab_thickness = 50.\n",
    "sampling = 40\n",
    "idl = False\n",
    "alg = False\n",
    "smsh = create_from_profiles(profiles, sampling, sampling, idl, alg)\n",
    "low_mesh = create_lower_surface_mesh(smsh, 50)"
   ]
  },
  {
   "cell_type": "markdown",
   "metadata": {},
   "source": [
    "## Plotting profiles and traces"
   ]
  },
  {
   "cell_type": "code",
   "execution_count": null,
   "metadata": {},
   "outputs": [
    {
     "name": "stdout",
     "output_type": "stream",
     "text": [
      "done\n"
     ]
    }
   ],
   "source": [
    "%%bash -s \"$path\" \n",
    "\n",
    "catalogue='./../data/catalogue/wpg_catalogue_sumatra.csv'\n",
    "catalogue='./../data/catalogue/catalogue.csv'\n",
    "\n",
    "gmt set MAP_FRAME_TYPE = PLAIN\n",
    "gmt set PS_MEDIA = a4\n",
    "\n",
    "ext='-R94/107/-6/7/0/200'\n",
    "prj='-Jm1 -Jz-0.01 -p80/30/0'\n",
    "out='./tmp/profiles.ps'\n",
    "\n",
    "DATA=$1'/cs*'\n",
    "cpt=./tmp/tmp.cpt\n",
    "\n",
    "gmt psbasemap $ext $prj -K -B+n > $out\n",
    "gmt pscoast $ext $prj -O -K -Glightbrown >> $out\n",
    "gmt makecpt -Chaxby -T0/200/20 > $cpt\n",
    "tail -n+2 $catalogue | gawk -F, '{print $3, $4, $5, $5, $6/80}' | gmt psxyz $ext $prj -O -K -C$cpt -Sc >> $out\n",
    "\n",
    "for f in $DATA; \n",
    "do \n",
    "    gmt psxyz $f $ext $prj -O -K -Wthick,green,- >> $out\n",
    "    gmt psxy $f $ext $prj -O -K -Wthick,red >> $out\n",
    "done\n",
    "\n",
    "gmt pscoast $ext $prj -O -K -W0.5 >> $out\n",
    "gmt psbasemap $ext $prj -O -B+n >> $out\n",
    "gmt psconvert $out -A0.5c -P -Tg \n",
    "\n",
    "\n",
    "rm gmt.conf gmt.history\n",
    "echo 'done'"
   ]
  },
  {
   "cell_type": "code",
   "execution_count": null,
   "metadata": {},
   "outputs": [
    {
     "data": {
      "text/html": [
       "<img src=\"./tmp/profiles.png\"/>"
      ],
      "text/plain": [
       "<IPython.core.display.Image object>"
      ]
     },
     "execution_count": 108,
     "metadata": {},
     "output_type": "execute_result"
    }
   ],
   "source": [
    "Image(url= \"./tmp/profiles.png\")"
   ]
  },
  {
   "cell_type": "markdown",
   "metadata": {},
   "source": [
    "## Plotting mesh\n",
    "\n",
    "First we create a temporary file containing the edges created starting from the profiles."
   ]
  },
  {
   "cell_type": "code",
   "execution_count": null,
   "metadata": {},
   "outputs": [],
   "source": [
    "edges_fname, profiles_fname = write_mesh(smsh, 'top')\n",
    "edges_low_fname, profiles_low_fname = write_mesh(low_mesh, 'low')\n",
    "poly_fname = write_poly(smsh, 'poly')\n",
    "poly_low_fname = write_poly(low_mesh, 'poly_low')"
   ]
  },
  {
   "cell_type": "code",
   "execution_count": null,
   "metadata": {},
   "outputs": [
    {
     "name": "stdout",
     "output_type": "stream",
     "text": [
      "done\n"
     ]
    }
   ],
   "source": [
    "%%bash -s \"$path\" \"$edges_fname\" \"$profiles_fname\" \"$poly_low_fname\" \"$poly_fname\"\n",
    "\n",
    "ext='-R94/107/-6/7/0/200'\n",
    "prj='-Jm1 -Jz-0.01 -p100/20/0'\n",
    "out='./tmp/edges.ps'\n",
    "DATA=$1'/cs*'\n",
    "\n",
    "gmt psbasemap $ext $prj -K -B+b > $out\n",
    "\n",
    "gmt psxyz $4 $ext $prj -O -K -Wdefault,orange -G240 >> $out\n",
    "gmt psxyz $5 $ext $prj -O -K -Wthinnest,purple -G220 >> $out\n",
    "\n",
    "for f in $DATA; \n",
    "do \n",
    "    gmt psxyz $f $ext $prj -O -K -Wthinner,green,- >> $out\n",
    "done\n",
    "\n",
    "gmt psbasemap $ext $prj -O -B+b >> $out\n",
    "gmt psconvert $out  -A0.5c -P -Tg \n",
    "echo 'done'"
   ]
  },
  {
   "cell_type": "code",
   "execution_count": null,
   "metadata": {},
   "outputs": [
    {
     "data": {
      "text/html": [
       "<img src=\"./tmp/edges.png\"/>"
      ],
      "text/plain": [
       "<IPython.core.display.Image object>"
      ]
     },
     "execution_count": 111,
     "metadata": {},
     "output_type": "execute_result"
    }
   ],
   "source": [
    "Image(url= \"./tmp/edges.png\")"
   ]
  },
  {
   "cell_type": "markdown",
   "metadata": {},
   "source": [
    "## Plotting virtual faults"
   ]
  },
  {
   "cell_type": "code",
   "execution_count": null,
   "metadata": {},
   "outputs": [],
   "source": [
    "dips = [45, 135]\n",
    "sampling = 20.\n",
    "ohs = create_inslab_meshes(smsh, dips, slab_thickness, sampling)"
   ]
  },
  {
   "cell_type": "code",
   "execution_count": null,
   "metadata": {},
   "outputs": [],
   "source": [
    "!mkdir -p tmp/vf"
   ]
  },
  {
   "cell_type": "code",
   "execution_count": null,
   "metadata": {},
   "outputs": [],
   "source": [
    "for key in ohs:\n",
    "    for i, fault in enumerate(ohs[key]):\n",
    "        fou = open(os.path.join(tmp_path, 'vf', 'vf_{:d}_{:03d}.txt'.format(key, i)), 'w')\n",
    "        for pro in fault:\n",
    "            fou.write('>\\n')\n",
    "            for p in pro:\n",
    "                fou.write('{:.5f},{:.5f},{:.5f}\\n'.format(p.longitude, p.latitude, p.depth))\n",
    "        fou.write('>\\n')\n",
    "        fou.close()"
   ]
  },
  {
   "cell_type": "code",
   "execution_count": null,
   "metadata": {},
   "outputs": [],
   "source": [
    "sampling = 15.\n",
    "tmp_mesh = create_from_profiles(ohs[135][4], sampling, sampling, idl, alg)\n",
    "vf_edges_fname, vf_profiles_fname = write_mesh(tmp_mesh, 'vf')\n",
    "vf_poly_fname = write_poly(tmp_mesh, 'vf_poly')"
   ]
  },
  {
   "cell_type": "code",
   "execution_count": null,
   "metadata": {},
   "outputs": [
    {
     "name": "stdout",
     "output_type": "stream",
     "text": [
      "done\n"
     ]
    }
   ],
   "source": [
    "%%bash -s \"$path\" \"$vf_edges_fname\"  \"$vf_profiles_fname\" \"$poly_low_fname\"  \"$poly_fname\" \"$vf_poly_fname\"\n",
    "\n",
    "ext='-R94/107/-6/7/0/200'\n",
    "prj='-Jm1 -Jz-0.01 -p220/30/0'\n",
    "out='./tmp/virtual_faults0.ps'\n",
    "DATA=$1'cs*'\n",
    "\n",
    "gmt psbasemap $ext $prj -K -B+b > $out\n",
    "\n",
    "gmt psxyz $4 $ext $prj -O -K -Wdefault,orange -G240 >> $out\n",
    "gmt psxyz $5 $ext $prj -O -K -Wthinnest,purple -G220 >> $out\n",
    "gmt psxyz $6 $ext $prj -O -K -Wthinnest,red -G200 >> $out\n",
    "gmt psxyz $4 $ext $prj -O -K -Wdefault,orange,. >> $out\n",
    "gmt psxyz $5 $ext $prj -O -K -Wthinnest,purple >> $out\n",
    "\n",
    "gmt psxyz ./tmp/vf/vf_135_004.txt $ext $prj -O -K -Wthinner,red >> $out\n",
    "\n",
    "gmt psbasemap $ext $prj -O -B+n >> $out\n",
    "gmt psconvert $out -A0.5c -P -Tg \n",
    "\n",
    "echo 'done'"
   ]
  },
  {
   "cell_type": "code",
   "execution_count": null,
   "metadata": {},
   "outputs": [
    {
     "data": {
      "text/html": [
       "<img src=\"./tmp/virtual_faults0.png\"/>"
      ],
      "text/plain": [
       "<IPython.core.display.Image object>"
      ]
     },
     "execution_count": 117,
     "metadata": {},
     "output_type": "execute_result"
    }
   ],
   "source": [
    "Image(url= \"./tmp/virtual_faults0.png\")"
   ]
  },
  {
   "cell_type": "code",
   "execution_count": null,
   "metadata": {},
   "outputs": [
    {
     "name": "stdout",
     "output_type": "stream",
     "text": [
      "done\n"
     ]
    }
   ],
   "source": [
    "%%bash -s \"$path\" \"$vf_edges_fname\"  \"$vf_profiles_fname\" \"$poly_low_fname\"  \"$poly_fname\" \"$vf_poly_fname\"\n",
    "\n",
    "ext='-R94/107/-6/7/0/200'\n",
    "prj='-Jm1 -Jz-0.01 -p3200/10/0'\n",
    "out='./tmp/virtual_faults1.ps'\n",
    "DATA=$1'cs*'\n",
    "\n",
    "gmt psbasemap $ext $prj -K -B+b > $out\n",
    "\n",
    "gmt psxyz $4 $ext $prj -O -K -Wdefault,orange -G240 >> $out\n",
    "gmt psxyz $5 $ext $prj -O -K -Wthinnest,purple -G220 >> $out\n",
    "gmt psxyz $6 $ext $prj -O -K -Wthinnest,red -G200 >> $out\n",
    "gmt psxyz $5 $ext $prj -O -K -Wthinnest,purple >> $out\n",
    "\n",
    "gmt psxyz ./tmp/vf/vf_135_004.txt $ext $prj -O -K -Wthinner,red >> $out\n",
    "\n",
    "gmt psbasemap $ext $prj -O -B+n >> $out\n",
    "gmt psconvert $out -A0.5c -P -Tg \n",
    "echo 'done'"
   ]
  },
  {
   "cell_type": "code",
   "execution_count": null,
   "metadata": {},
   "outputs": [
    {
     "data": {
      "text/html": [
       "<img src=\"./tmp/virtual_faults1.png\"/>"
      ],
      "text/plain": [
       "<IPython.core.display.Image object>"
      ]
     },
     "execution_count": 119,
     "metadata": {},
     "output_type": "execute_result"
    }
   ],
   "source": [
    "Image(url= \"./tmp/virtual_faults1.png\")"
   ]
  }
 ],
 "metadata": {
  "kernelspec": {
   "display_name": ".venv",
   "language": "python",
   "name": "python3"
  },
  "language_info": {
   "codemirror_mode": {
    "name": "ipython",
    "version": 3
   },
   "file_extension": ".py",
   "mimetype": "text/x-python",
   "name": "python",
   "nbconvert_exporter": "python",
   "pygments_lexer": "ipython3",
   "version": "3.10.0"
  }
 },
 "nbformat": 4,
 "nbformat_minor": 4
}
